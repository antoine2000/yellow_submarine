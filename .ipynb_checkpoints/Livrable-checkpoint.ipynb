{
 "cells": [
  {
   "cell_type": "markdown",
   "metadata": {},
   "source": [
    "# Câbles sous-marin"
   ]
  },
  {
   "cell_type": "markdown",
   "metadata": {},
   "source": [
    "Ce projet vise à modéliser informatiquement et de manière probabiliste la longueur d'un câble sous-marin, en connaissant certaines caractéristiques du terrain."
   ]
  },
  {
   "cell_type": "markdown",
   "metadata": {},
   "source": [
    "### Contexte"
   ]
  },
  {
   "cell_type": "markdown",
   "metadata": {},
   "source": [
    "Le câble sera déployé sur une distance reliant deux points $A$ et $B$, discrétisée en $N+1$ points $(x_n)_{n \\in [1,N+1]}$ répartis uniformément entre $A$ et $B$. La distance entre deux points, invariante, sera notée $\\Delta$. \n",
    "Le but pour nous est de modéliser la profondeur de ces points, notée Z : on cherche donc à modéliser $Z = (z(x_n))_{n \\in [1,N+1]}$.\n",
    "Nous connaissons les profondeurs en certains points, cela est détaillé plus tard dans le notebook, après la partie théorique d'analyse du problème."
   ]
  },
  {
   "cell_type": "markdown",
   "metadata": {},
   "source": [
    "La longueur du câble modélisé sera notée $L$, et sera donc fonction des profondeurs, on aura donc : \n",
    "$L(Z) = \\sum \\limits_{i=1}^N \\sqrt{\\Delta² + (z(x_i+1) - z(x_i))²}$"
   ]
  },
  {
   "cell_type": "markdown",
   "metadata": {},
   "source": [
    "L'influence des profondeurs connues sur les profondeurs simulées sera modelisée par une matrice de covariance $\\Sigma$ dont le terme général $\\sigma_{i,j}$ sera $C(|x_i- x_j|)$ avec C une fonction détaillée ensuite.\n",
    "On cherchera ainsi à modéliser $L(Z | (z(x_i))_{i \\in [1,d]} = (z_i)_{i \\in [1,d]})$ avec $ d \\in \\mathbb N, d < N$ donnant le nombre de profondeurs connues."
   ]
  },
  {
   "cell_type": "markdown",
   "metadata": {},
   "source": [
    "## Analyse du problème"
   ]
  },
  {
   "cell_type": "markdown",
   "metadata": {},
   "source": [
    "1.On veut donc estimer l'espérance conditionnelle de $L$. Or, la loi des grands nombres nous assure qu'on peut l'estimer par la moyenne empirique de simulations conditionnelles.\n",
    "\n",
    "2.En outre, comme détaillé ci-dessous, on connait la loi conditionnelle du vecteur des composantes de $Z$ correspondant aux points de discrétisation sans observation, conaissant les valeurs prises par les composantes aux sites d'observation.\n",
    "\n",
    "Quitte à renommer les composantes du vecteur $Z$, on peut supposer que $\\forall i \\in [1;n], x_{j_i} = i $, il suffira alors de changer l'expression de $L$ en conséquence.\n",
    "Notons $Y = Z[1;N-n]$ le vecteur correspondant aux points sans observation et $K = Z[N-n+1;N]$ celui correspondant aux points sur les sites d'observation.\n",
    "On a alors :\n",
    "$$f_{Y|K=z}(y) = \\frac{1}{(2\\pi)^{(N-n)/2}\\sqrt{\\det (\\Sigma S_Y)}}\\exp \\left(-\\frac{1}{2}\\left(y - \\psi(z)\\right)^t \\Sigma S_Y^{-1}\\left(y - \\psi(z)\\right)\\right)$$\n",
    "Avec $\\Sigma = \\left(\\begin{array}{cc} \\Sigma_Y & \\Sigma_{Y,K} \\\\ \\Sigma_{K,Y} & \\Sigma_K \\end{array}\\right)$  \n",
    "Et $\\Sigma S_Y = \\Sigma_Y - \\Sigma_{Y,K}\\Sigma_K^{-1}\\Sigma_{Z,Y}$  \n",
    "Et $\\forall z \\in \\mathbb{R}^n, \\psi(z) = m_Y + \\Sigma_{Y,K}\\Sigma_K^{-1}(z-m_K)$, avec $m_Y = m[1;N-n] et m_K = m[N-n+1;N]$  \n",
    "  \n",
    "On reconnait donc une gaussienne d'espérance $\\psi(z)$ et de matrice de covariance $\\Sigma S_{Y}$.\n",
    "\n",
    "3.Le vecteur $Z = m + RY$ est un vecteur Gaussien aléatoire dont la moyenne est m et la matrice de covarience est $RR^T$.\n",
    "\n",
    "4.Donc si on arrive à simuler un vecteur Gaussien $Y \\in  \\mathbb{R}^{N-n}$, on pourra ensuite calculer $Z' = \\psi(z) + RY$, où R est la racine carrée de $\\Sigma S_{Y}$, (qui existe car $\\Sigma$ étant symétrique définie positive, $\\Sigma S_{Y}$ l'est aussi) qui suivra alors la loi conditionelle énoncée précédemment. Il ne restera plus qu'à rajouter $K$ à $Z'$ pour retrouver $Z$, une simulation du vecteur correspondant aux hauteurs de tous les points et enfin, calculer $L^\\star$ à partir de ce dernier. En répettant l'opération plusieurs fois et en calculant la moyenne empirique $L^\\star=\\frac{1}{q}\\sum_{q=1}^Q l_{(q)}$ , on se rapprochera de la valeur théorique, d'après la loi des grands nombres."
   ]
  },
  {
   "cell_type": "markdown",
   "metadata": {},
   "source": [
    "## Résolution du problème"
   ]
  },
  {
   "cell_type": "markdown",
   "metadata": {},
   "source": [
    "Nous allons dans cette partie appliquer la démarche déduite de l'analyse du problème, en proposant et détaillant du code écrit en python pour chaque étape"
   ]
  },
  {
   "cell_type": "markdown",
   "metadata": {},
   "source": [
    "### Importations des librairies"
   ]
  },
  {
   "cell_type": "markdown",
   "metadata": {},
   "source": [
    "Durant notre travail, nous aurons besoin des libraires:\n",
    "- **math** pour les fonctions mathématiques de base dont nous aurons besoin\n",
    "- **numpy** pour les manipulations de matrices\n",
    "- **scipy** et de son module linalg, notamment pour les inversions de matrices et pour trouver une racine carrée d'une matrice symétrique définie positive (la matrice $\\Sigma S_{Y}$)\n",
    "- **matplotlib.pyplot** pour afficher nos résultats"
   ]
  },
  {
   "cell_type": "code",
   "execution_count": 2,
   "metadata": {},
   "outputs": [],
   "source": [
    "import math as ma\n",
    "import numpy as np\n",
    "import scipy.linalg\n",
    "import matplotlib.pyplot as plt"
   ]
  },
  {
   "cell_type": "markdown",
   "metadata": {},
   "source": [
    "### Initialisation des variables"
   ]
  },
  {
   "cell_type": "markdown",
   "metadata": {},
   "source": [
    "Nous initialisons nous variables et données, nous les exploiterons tout au long de la résolution du problème. Dans nos paramètres nous incluons les profondeurs connues et les index de ces dernières dans la liste des abscisses discrétisées.\n",
    "$mu$ se réfère à la moyenne du vecteur Z, $a$ donne la longueur caractéristique de la fonction $c$, et $sigma2$ à la variance au carrée qui est également en paramètre de $c$."
   ]
  },
  {
   "cell_type": "code",
   "execution_count": 3,
   "metadata": {},
   "outputs": [],
   "source": [
    "# Discrétisation\n",
    "\n",
    "A=0\n",
    "B=500\n",
    "N=101 \n",
    "\n",
    "# Nombre de points de discrétisation\n",
    "\n",
    "Delta = (B-A)/(N-1)\n",
    "discretization_indexes = np.arange(N)\n",
    "discretization = discretization_indexes*Delta\n",
    "\n",
    "# Paramètres du modèle\n",
    "\n",
    "mu=-5\n",
    "a = 50\n",
    "sigma2 = 12\n",
    "observation_indexes = [0,20,40,60,80,100]\n",
    "depth = np.array([0,-4,-12.8,-1,-6.5,0])\n",
    "unknown_indexes=list(set(discretization_indexes)-set(observation_indexes))\n"
   ]
  },
  {
   "cell_type": "markdown",
   "metadata": {},
   "source": [
    "Ceci fait, nous pouvons attaquer le gros du problème : la modélisation du vecteur $Z$ sous la contrainte des profondeurs connues."
   ]
  },
  {
   "cell_type": "markdown",
   "metadata": {},
   "source": [
    "### Préparation des fonctions et variables pour la modélisation"
   ]
  },
  {
   "cell_type": "markdown",
   "metadata": {},
   "source": [
    "#### Matrice de covariance"
   ]
  },
  {
   "cell_type": "markdown",
   "metadata": {},
   "source": [
    "Nous voulons tout d'abord connaître la matrice de covariance du vecteur $Z$, notée $C$\n",
    "Nous introduisons alors la fonction $c$, qui donne :\n",
    "- si l'entrée est une matrice : la matrice de covariance associée à la matrice des distances en entrée\n",
    "- si l'entrée est un nombre : la valeur de la fonction de covariance ($c$) si la distance entre deux points vaut le nombre donné en entrée."
   ]
  },
  {
   "cell_type": "code",
   "execution_count": 4,
   "metadata": {},
   "outputs": [],
   "source": [
    "def c(h,a = 50,sigma2 = 12):\n",
    "\n",
    "    if isinstance(h,float) or isinstance(h,int):\n",
    "        return sigma2*ma.exp(-abs(h)/a)\n",
    "    else:\n",
    "        M = []\n",
    "        for ligne in h:\n",
    "            L = []\n",
    "            for coef in ligne:\n",
    "                L.append(c(coef,a,sigma2))\n",
    "            M.append(L)\n",
    "        return np.array(M)"
   ]
  },
  {
   "cell_type": "markdown",
   "metadata": {},
   "source": [
    "Nous calculons alors la matrice $C$ :"
   ]
  },
  {
   "cell_type": "code",
   "execution_count": 5,
   "metadata": {},
   "outputs": [],
   "source": [
    "# Matrice des distances\n",
    "\n",
    "Dist = []\n",
    "for i in range(101):\n",
    "    xi = i*500/100\n",
    "    L = []\n",
    "    for j in range(101):\n",
    "        xj = j*500/100\n",
    "        L.append(abs(xj-xi))\n",
    "    Dist.append(L)\n",
    "\n",
    "## Matrice de covariance\n",
    "\n",
    "C = c(Dist)"
   ]
  },
  {
   "cell_type": "markdown",
   "metadata": {},
   "source": [
    "Ensuite, nous en déduisons la **moyenne** et la **variance** du vecteur $Z$ sous la contrainte des profondeurs connues."
   ]
  },
  {
   "cell_type": "markdown",
   "metadata": {},
   "source": [
    "#### Paramètres caractéristiques de Z, sous contrainte"
   ]
  },
  {
   "cell_type": "markdown",
   "metadata": {},
   "source": [
    "On extrait d'abord les sous-matrices de C qui nous intéressent :\n",
    "- M_connus correspond à l'influence des points connus entre eux\n",
    "- M_croisés correspond à l'influence des points connus sur les points inconnus\n",
    "- M_inconnus correspond à l'influence des points inconnus entre eux"
   ]
  },
  {
   "cell_type": "code",
   "execution_count": 16,
   "metadata": {},
   "outputs": [],
   "source": [
    "M_connus = []\t\n",
    "M_croisés = []\n",
    "M_inconnus = []\n",
    "\n",
    "for i in range(len(C)):\n",
    "    if i%20 == 0:\n",
    "        L_connus = []\n",
    "    else :\n",
    "        L_croisés = []\n",
    "        L_inconnus = []\n",
    "    for j in range(len(C[0])):\n",
    "        if i%20 == 0 and j%20 == 0:\n",
    "            L_connus.append(C[i][j])\n",
    "        elif i%20 != 0 and j%20 == 0:\n",
    "            L_croisés.append(C[i][j])\n",
    "        elif i%20 != 0 and j%20 != 0:\n",
    "            L_inconnus.append(C[i][j])\n",
    "    if i%20 == 0:\n",
    "        M_connus.append(L1)\n",
    "    else :\n",
    "        M_connus.append(L2)\n",
    "        M_inconnus.append(L3)\n",
    "\n",
    "M_connus, M_croisés, M_inconnus = np.array(M_connus), np.array(M_croisés), np.array(M_inconnus)"
   ]
  },
  {
   "cell_type": "markdown",
   "metadata": {},
   "source": [
    "On pose ensuite des variables intermédiaires, qui simplifieront l'expression du calcul de la moyenne et de la variance de $Z$ :\n",
    "- M_connus_inv est l'inverse de la matrice M_connus\n",
    "- M_utile ne représente rien de particulier, on la retrouve juste dans les calculs à plusieurs endroits\n",
    "- mu_vec représente l'espérance de $Z$ sans contrainte, qui sera ajustée ensuite pour donner l'espérance de $Z$ sous contrainte.\n",
    "- mu_vec2 représente les profondeurs connues, ajustées par l'espérance des profondeurs, qui est -5"
   ]
  },
  {
   "cell_type": "code",
   "execution_count": 7,
   "metadata": {},
   "outputs": [],
   "source": [
    "M_connus_inv = np.linalg.inv(M_connus)\n",
    "M_utile = np.dot(M_croisés,M_connus_inv)\n",
    "mu_vec = np.array([-5 for _ in range(101-6)])\n",
    "mu_vec2 = np.array([depth[i] + 5 for i in range(6)])"
   ]
  },
  {
   "cell_type": "markdown",
   "metadata": {},
   "source": [
    "On calcule maintenant la moyenne et la variance de $Z$, le détail des calculs se situe dans la partie d'analyse et dans l'annexe consacrée aux calculs."
   ]
  },
  {
   "cell_type": "code",
   "execution_count": 17,
   "metadata": {},
   "outputs": [],
   "source": [
    "esperance = mu_vec + np.dot(M_utile,mu_vec2.T)\n",
    "\n",
    "covariance = M_inconnus - np.dot(M_utile,M_croisés.T)"
   ]
  },
  {
   "cell_type": "markdown",
   "metadata": {},
   "source": [
    "On calcule enfin la matrice $R$, qui est la racine carrée de la matrice symétrique positive définie extraite de la matrice de covariance de $Z$, qui servira dans la simulation aléatoire de $Z$."
   ]
  },
  {
   "cell_type": "code",
   "execution_count": 11,
   "metadata": {},
   "outputs": [],
   "source": [
    "R = scipy.linalg.sqrtm(covariance)"
   ]
  },
  {
   "cell_type": "markdown",
   "metadata": {},
   "source": [
    "On a maintenant toutes les armes pour effectuer nos simulations aléatoires."
   ]
  },
  {
   "cell_type": "markdown",
   "metadata": {},
   "source": [
    "### Fonctions de simulations"
   ]
  },
  {
   "cell_type": "markdown",
   "metadata": {},
   "source": [
    "On modélise la variable aléatoire $Z = m + R*Y$ avec $Y$ vecteur de composantes gaussiennes indépendantes, et $m$ l'espérance de $Z$, calculée plus haut. On modélise les profondeurs inconnues puis on ajoute les profondeurs connues aux bons endroits dans le vecteur. Le vecteur $Z$ cherché correspond dans la fonction à la variable $Z_{complete}$."
   ]
  },
  {
   "cell_type": "code",
   "execution_count": 12,
   "metadata": {},
   "outputs": [],
   "source": [
    "def simulation_Z(N = 95):\n",
    "    Y = np.random.normal(0,1,N)\n",
    "    Z = esperance + np.dot(R,Y)\n",
    "    Z_complete = []\n",
    "    for i in range(101):\n",
    "        if i%20 == 0:\n",
    "            Z_complete.append(depth[i//20])\n",
    "        else:\n",
    "            Z_complete.append(Z[i-i//20-1])\n",
    "    return Z_complete"
   ]
  },
  {
   "cell_type": "markdown",
   "metadata": {},
   "source": [
    "On peut dès lors créer la fonction qui modélise $L$ sous contrainte, qui se sert de la fonction définie précédemment."
   ]
  },
  {
   "cell_type": "code",
   "execution_count": 10,
   "metadata": {},
   "outputs": [],
   "source": [
    "def simulation_L(N = 95):\n",
    "    Z = simulation_Z(N)\n",
    "    delta = 5\n",
    "    S = 0\n",
    "    temp = Z[0]\n",
    "    for z in Z[1:]:\n",
    "        S += ma.sqrt(delta**2 + (z-temp)**2)\n",
    "        temp = 1*z\n",
    "    return S"
   ]
  },
  {
   "cell_type": "markdown",
   "metadata": {},
   "source": [
    "Ensuite, pour analyser nos résultats, nous aurons besoin de plusieurs fonctions."
   ]
  },
  {
   "cell_type": "markdown",
   "metadata": {},
   "source": [
    "### Fonctions d'analyse des résultats"
   ]
  },
  {
   "cell_type": "markdown",
   "metadata": {},
   "source": [
    "Tout d'abord, nous voulons afficher les résultats obtenus lors des simulations : quelle est la distribution de profondeurs obtenue ? Nous avons ajouté la possibilité d'afficher plusieurs simulations en même temps."
   ]
  },
  {
   "cell_type": "code",
   "execution_count": 11,
   "metadata": {},
   "outputs": [],
   "source": [
    "def affichage_simulations(number = 1, N = 95):\n",
    "        plt.figure()\n",
    "        plt.title(\"Simulation des profondeurs en fonction de la position\")\n",
    "        plt.xlabel(\"position\")\n",
    "        plt.ylabel(\"profondeur\")\n",
    "        plt.plot(unknown_indexes,esperance,label = \"esperance\")\n",
    "        for i in range(number):\n",
    "            plt.plot(discretization_indexes,simulation_Z(N), label = \"simulation numéro \" + str(i+1))\n",
    "        plt.legend(loc = 0)\n",
    "        plt.show()"
   ]
  },
  {
   "cell_type": "markdown",
   "metadata": {},
   "source": [
    "On peut également vouloir accéder à la moyenne glissante des longueurs de câble au fil des simulations, afin d'avoir une idée de la vitesse de convergence du modèle. Nous y avons ajouté l'affichage de l'intervalle à 5% autour de la valeur moyenne finale, afin de mieux représenter la convergence du modèle."
   ]
  },
  {
   "cell_type": "code",
   "execution_count": 12,
   "metadata": {},
   "outputs": [],
   "source": [
    "def moyenne_evoluante(number, N = 95):\n",
    "    simulations = []\n",
    "    moyennes = []\n",
    "    for k in range(1,number+1):\n",
    "        simulations.append(simulation_L(N))\n",
    "        moyennes.append(sum(simulations)/k)\n",
    "    return moyennes\n",
    "\n",
    "def affichage_moyenne_evoluante(number, N = 95):\n",
    "    numbers = [i for i in range(int(number*0.05),number)]\n",
    "    moyennes = moyenne_evoluante(number,N)[int(number*.05):]\n",
    "    plt.figure()\n",
    "    plt.title(\"Evolution de la moyenne des longueurs de cable simulee au cours des simulations\")\n",
    "    plt.xlabel(\"numero de la simulation\")\n",
    "    plt.ylabel(\"moyenne depuis le debut des simulation\")\n",
    "    plt.plot(numbers,moyennes)\n",
    "    plt.plot(numbers,[moyennes[-1] for _ in range(int(number*.95))],label = \"valeur finale\")\n",
    "    plt.plot(numbers,[moyennes[-1] for _ in range(int(number*.95))],label = \"intervalle à -00,5%\")\n",
    "    plt.plot(numbers,[moyennes[-1] for _ in range(int(number*.95))],label = \"intervalle à +00,5%\")\n",
    "    plt.legend(loc=0)\n",
    "    plt.show()"
   ]
  },
  {
   "cell_type": "markdown",
   "metadata": {},
   "source": [
    "De plus, il serait intéressant de trier nos simulations de longueur en réalisant des histogrammes. Cela permettra d'avoir une vision plus précise de la distribution de nos résultats."
   ]
  },
  {
   "cell_type": "markdown",
   "metadata": {},
   "source": [
    "## Principaux résultats"
   ]
  },
  {
   "cell_type": "markdown",
   "metadata": {},
   "source": [
    "Tout d'abord, nous montrons les résultats des simulations de profondeur, en montrant également la courbe \"espérée\" des profondeurs et la variance des profondeurs en fonction de l'abscisse du point considéré, créée à partir de l'espérance calculée plus haut dans la partie **paramètres caractéristiques de $Z$**"
   ]
  },
  {
   "cell_type": "markdown",
   "metadata": {},
   "source": [
    "### Espérance et variance conditionnelles simulées"
   ]
  },
  {
   "cell_type": "markdown",
   "metadata": {},
   "source": [
    "![esperance des profondeurs](premiers_resultats/esperance_cond.png)"
   ]
  },
  {
   "cell_type": "markdown",
   "metadata": {},
   "source": [
    "**legende** : Cette courbe montre la distribution en profondeurs espérée, en ajoutant les profondeurs déjà connues, affichées ici en points orange. "
   ]
  },
  {
   "cell_type": "markdown",
   "metadata": {},
   "source": [
    "**La valeur de la longueur espérée du câble est donc de : 501.65 mètres (avec une précision au centimètre)**"
   ]
  },
  {
   "cell_type": "markdown",
   "metadata": {},
   "source": [
    "![variance simulée](premiers_resultats/variance_cond.png)"
   ]
  },
  {
   "cell_type": "markdown",
   "metadata": {},
   "source": [
    "**legende** : Cette courbe montre la distribution de variance des profondeurs en fonction de l'abscisse des points"
   ]
  },
  {
   "cell_type": "markdown",
   "metadata": {},
   "source": [
    "On observe que la variance est minimale autour des points aux profondeurs déjà connues, puis augmente lorsque l'on s'éloigne de ces derniers. Cela est du à l'expression de la **fonction de convariance, $c$**, qui est en exponentielle de la distance entre deux points."
   ]
  },
  {
   "cell_type": "markdown",
   "metadata": {},
   "source": [
    "### Simulations des profondeurs"
   ]
  },
  {
   "cell_type": "markdown",
   "metadata": {},
   "source": [
    "![premieres simulations des profondeurs](premiers_resultats/simulation.png)"
   ]
  },
  {
   "cell_type": "markdown",
   "metadata": {},
   "source": [
    "On peut afficher plusieurs simulations à la fois"
   ]
  },
  {
   "cell_type": "markdown",
   "metadata": {},
   "source": [
    "![plusieurs simulations en même temps](simulations_de_distributions/simulations_3.png)"
   ]
  },
  {
   "cell_type": "markdown",
   "metadata": {},
   "source": [
    "On observe que les profils de profondeurs varient beaucoup d'une simulation à l'autre. Qu'en est-il des longueurs de câbles associées ? Nous allons visualiser la **moyenne des longueurs de câbles au long de nos simulations**, ainsi que les **histogrammes des longueurs simulées**, afin de mieux appréhender la distribution de longueurs. Ensuite nous donnerons une estimation de la **probabilité que le câble dépasse 425 mètres**.\n",
    "Enfin, nous allons établir **l'intervalle de confiance à 95% de la longueur du câble pour chaque longueur de simulations**"
   ]
  },
  {
   "cell_type": "markdown",
   "metadata": {},
   "source": [
    "Nous allons afficher ces résultats pour différentes longueurs de simulations :\n",
    "- 100 simulations\n",
    "- 1 000 simulations\n",
    "- 10 000 simulations\n",
    "- 100 000 simulations"
   ]
  },
  {
   "cell_type": "markdown",
   "metadata": {},
   "source": [
    "### Résultats sur les longueurs du câble"
   ]
  },
  {
   "cell_type": "markdown",
   "metadata": {},
   "source": [
    "Pour les résultats montrant l'évolution de la moyenne des longueurs simulées, nous avons affiché les **barres à 0.005% autour de la valeur finale obtenue**, nous avons également **coupé les 10 premières valeurs** des simulations, pour rendre les graphiques plus lisibles. Cela illustre la convergence de nos simulations"
   ]
  },
  {
   "cell_type": "markdown",
   "metadata": {},
   "source": [
    "#### 100 simulations"
   ]
  },
  {
   "cell_type": "markdown",
   "metadata": {},
   "source": [
    "![moyenne à 100 simulations](100/moyennes_longueurs_cables_100_sans.png)"
   ]
  },
  {
   "cell_type": "markdown",
   "metadata": {},
   "source": [
    "L'évolution de la suite des moyennes sur un faible nombre de simulations montre une convergence en environ 80 itérations vers une valeur se situant autour de 522,2 mètres. On est plutôt éloigné de la valeur espérée, qui était de 501.65 mètres environ. Cela semble dû aux **grandes variations de profondeurs dans les simulations**, même pour des positions rapprochées, alors que dans le modèle simulé, nous avions **une évolution plus lisse de la profondeur**, ce qui enlève une grande quantité de câble nécessaire.\n"
   ]
  },
  {
   "cell_type": "markdown",
   "metadata": {},
   "source": [
    "Histogramme des longueurs :"
   ]
  },
  {
   "cell_type": "markdown",
   "metadata": {},
   "source": [
    "![histogramme 100 simulations](100/histogramme_100.png)"
   ]
  },
  {
   "cell_type": "markdown",
   "metadata": {},
   "source": [
    "Cette histogramme montre une faible dispersion des valeur de longeurs simulées, avec des pics autour de 522,4 mètres, cela est concordant avec les résultats précédents et qui explique la convergence rapide de la courbe des moyennes en longueur."
   ]
  },
  {
   "cell_type": "markdown",
   "metadata": {},
   "source": [
    "#### 1 000 simulations"
   ]
  },
  {
   "cell_type": "markdown",
   "metadata": {},
   "source": [
    "![moyenne à 1 000 simulations](1_000/moyennes_longueurs_cables_1000_sans.png)"
   ]
  },
  {
   "cell_type": "markdown",
   "metadata": {},
   "source": [
    "On voit ici que l'on est très vite à l'intérieur des bornes à 0.005% autour de la valeur finale, qui se situe aux alentours de 522.4 mètres. Le changement par rapport à la simulation avec 100 valeurs est tout de même visible. A partir de maintenant on s'affranchira des bornes à 0.005%, **la convergence rapide des valeurs en moyenne étant prouvée**."
   ]
  },
  {
   "cell_type": "markdown",
   "metadata": {},
   "source": [
    "**Histogramme des longueurs**"
   ]
  },
  {
   "cell_type": "markdown",
   "metadata": {},
   "source": [
    "![histogramme 1 000 simulations](1_000/histogramme_1000.png)"
   ]
  },
  {
   "cell_type": "markdown",
   "metadata": {},
   "source": [
    "L'histogramme montre ici des valeurs étalées atout d'une valeur moyenne peu représentée. Cependant, l'écart à la moyenne est faible."
   ]
  },
  {
   "cell_type": "markdown",
   "metadata": {},
   "source": [
    "#### 10 000 simulations"
   ]
  },
  {
   "cell_type": "markdown",
   "metadata": {},
   "source": [
    "![moyenne à 10 000 simulations](10_000/moyennes_longueurs_cables_10000_sans.png)"
   ]
  },
  {
   "cell_type": "markdown",
   "metadata": {},
   "source": [
    "Nous avons ici effecuté un zoom autour de la valeur finale de la simulation de la suite des moyennes. Cela permet de mieux rendre compte de l'évolution de celle-ci. La valeur finale est **sensiblement la même que celle de la simulations à 1 000 itérations : 522.46 mètres**"
   ]
  },
  {
   "cell_type": "markdown",
   "metadata": {},
   "source": [
    "**histogramme des longueurs**"
   ]
  },
  {
   "cell_type": "markdown",
   "metadata": {},
   "source": [
    "![histogramme 10 000 simulations](10_000/histogramme_10000.png)"
   ]
  },
  {
   "cell_type": "markdown",
   "metadata": {},
   "source": [
    "L'histogramme montre cette fois-ci une valeur moyenne très représentée et une faible dispersion des valeurs."
   ]
  },
  {
   "cell_type": "markdown",
   "metadata": {},
   "source": [
    "#### 100 000 simulations"
   ]
  },
  {
   "cell_type": "markdown",
   "metadata": {},
   "source": [
    "![moyenne à 100 000 simulations](100_000/moyennes_longueurs_cables_100000_sans.png)"
   ]
  },
  {
   "cell_type": "markdown",
   "metadata": {},
   "source": [
    "L'évolution de la suite des moyennes des simulations montre ici une variation non négligeable (de l'ordre du centimètre) de la longueur du câble, même après la moitié des simulations effectuées. Cela montre que la longueur du câble peut fluctuer de manière non négligeable entre les différentes simulation. Cependant, une valeur comprise entre 522.4 et 522.45 mètres s'impose à nouveau."
   ]
  },
  {
   "cell_type": "markdown",
   "metadata": {},
   "source": [
    "**histogramme des longueurs**"
   ]
  },
  {
   "cell_type": "markdown",
   "metadata": {},
   "source": [
    "![histogramme 100 000 simulations](100_000/histogramme_100000.png)"
   ]
  },
  {
   "cell_type": "markdown",
   "metadata": {},
   "source": [
    "L'histogramme est ici univoque : nous avons clairement quelques valeurs **très représentées** par rapport aux autres, se situant entre 522.4 et 522.45 mètres. Cela concorde avec les observations précédantes"
   ]
  },
  {
   "cell_type": "markdown",
   "metadata": {},
   "source": [
    "### Probabilité que le câble dépasse 525 mètres"
   ]
  },
  {
   "cell_type": "markdown",
   "metadata": {},
   "source": [
    "Pour estimer cette probabilité, nous allons compter le nombre de simulations dans notre distribution qui dépassent 525 mètres, et comparer cela au nombre total de simulations."
   ]
  },
  {
   "cell_type": "markdown",
   "metadata": {},
   "source": [
    "Voici nos résultats :"
   ]
  },
  {
   "cell_type": "markdown",
   "metadata": {},
   "source": [
    "![probabilité de dépasser 525 mètres pour différents nombres de simulations](probabilite_525/resultats_probabilite_525.png)"
   ]
  },
  {
   "cell_type": "markdown",
   "metadata": {},
   "source": [
    "### Intervalle de confiance à 95%"
   ]
  },
  {
   "cell_type": "markdown",
   "metadata": {},
   "source": [
    "Pour déterminer cet intervalle de confiance, essentiel pour connaître avec précision la gamme de longueurs dans laquelle se situe nos simulations de longueur de câble, nous avons choisi deux méthodes : une naïve et une autre reposant sur l'approximation de nos distributions de longueurs (représentées par nos histogrammes) par une distribution gaussienne. Nous allons détaillons ces deux méthodes"
   ]
  },
  {
   "cell_type": "markdown",
   "metadata": {},
   "source": [
    "#### Méthode naïve "
   ]
  },
  {
   "cell_type": "markdown",
   "metadata": {},
   "source": [
    "Le principe de cette méthode est simple : effectuer le nombre de simulations voulue, calculer la moyenne des longueurs correspondant à cette distribution, puis augmenter un écart à cette moyenne jusqu'à englober 95% des valeurs de la distribution. "
   ]
  },
  {
   "cell_type": "code",
   "execution_count": 15,
   "metadata": {},
   "outputs": [],
   "source": [
    "def proportion_dedans(number, simulations, moyenne, ecart):\n",
    "    nombre_dedans = 0\n",
    "    for simulation in simulations:\n",
    "        if simulation > moyenne - ecart and simulation < moyenne + ecart :\n",
    "            nombre_dedans += 1\n",
    "    return nombre_dedans / number\n",
    "\n",
    "def intervalle_confiance_naïve(number, N = 95):\n",
    "    simulations_L = [simulation_L(N) for _ in range(number)]\n",
    "    moyenne = np.mean(simulations_L)\n",
    "    ecart_moyenne = 0\n",
    "    while proportion_dedans(number, simulations_L,moyenne,ecart_moyenne) < 0.95 :\n",
    "        ecart_moyenne += 0.01\n",
    "    return 2*ecart_moyenne"
   ]
  },
  {
   "cell_type": "markdown",
   "metadata": {},
   "source": [
    "#### Méthode d'approximation par une gaussienne"
   ]
  },
  {
   "cell_type": "markdown",
   "metadata": {},
   "source": [
    "Pour cette méthode, après avoir effectué les simulations, nous avons calculé la moyenne et l'écart-type de notre distribution. L'écart à la moyenne donnant l'intervalle de confiance à 95% vaut alors **trois fois l'écart-type**, d'après une propriété de la distribution gaussienne."
   ]
  },
  {
   "cell_type": "code",
   "execution_count": 14,
   "metadata": {},
   "outputs": [],
   "source": [
    "def intervalle_confiance_approx(number, N = 95):\n",
    "    simulations_L = np.array([simulation_L(N) for _ in range(number)])\n",
    "    moyenne = np.mean(simulations_L)\n",
    "    ecart_type = ma.sqrt(np.mean( (simulations_L - moyenne)**2 ))\n",
    "    return 3*ecart_type"
   ]
  },
  {
   "cell_type": "markdown",
   "metadata": {},
   "source": [
    "### Résultats de l'étude sur les intervalles de confiance à 95%"
   ]
  },
  {
   "cell_type": "markdown",
   "metadata": {},
   "source": [
    "Nous avons récapitulé les résultats de notre étude sur l'intervalle de confiance à 95% de la longueur du câble dans un graphique montrant l'évolution des écarts en fonction du nombre de simulations."
   ]
  },
  {
   "cell_type": "markdown",
   "metadata": {},
   "source": [
    "![résultats de la simulation des intervalles de confiance](intervalle_de_confiance/resulats.png)"
   ]
  },
  {
   "cell_type": "markdown",
   "metadata": {},
   "source": [
    "On voit ainsi que la méthode par approximation et la méthode naïve n'ont pas du tout les mêmes résultats : on observe une différence de l'ordre du mètre pour l'écart caractéristique de l'intervalle à 95%. Cela est probablement dû au fait que la méthode naïve est plus dépendante que la méthode par approximation des valeurs éloignées de la moyenne de la distribution."
   ]
  },
  {
   "cell_type": "markdown",
   "metadata": {},
   "source": [
    "**En conclusion, on peut être sûrs à 95% que la longueur du câble sous-marin se situera, sous réserve de l'hypothèse initiale de l'exercice, entre 514.5 et 535 mètres**."
   ]
  }
 ],
 "metadata": {
  "kernelspec": {
   "display_name": "Python 3",
   "language": "python",
   "name": "python3"
  },
  "language_info": {
   "codemirror_mode": {
    "name": "ipython",
    "version": 3
   },
   "file_extension": ".py",
   "mimetype": "text/x-python",
   "name": "python",
   "nbconvert_exporter": "python",
   "pygments_lexer": "ipython3",
   "version": "3.7.3"
  }
 },
 "nbformat": 4,
 "nbformat_minor": 2
}
